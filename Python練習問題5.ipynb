{
  "cells": [
    {
      "cell_type": "markdown",
      "metadata": {
        "id": "C5lIJjWHyR--"
      },
      "source": [
        "---\n",
        "\n",
        "### Python データ構造編 練習問題集\n",
        "\n",
        "これらの問題は、Pythonチュートリアルの「データ構造について」の章の内容に基づいています。\n",
        "\n",
        "---\n",
        "\n",
        "**問題 1: リストの基本操作メソッド**\n",
        "\n",
        "リストに要素を追加したり、削除したり、情報を取得したりする様々なメソッドを使ってみましょう。\n",
        "\n",
        "以下の `my_list` リストを使って、以下の操作を行うコードを書いてください。\n",
        "\n",
        "1.  リストの末尾に `60` を追加してください。\n",
        "2.  リストの最初の要素として `0` を挿入してください。\n",
        "3.  リストから値が `30` の要素を削除してください（最初に見つかったもの）。\n",
        "4.  リストの末尾の要素を取り出して表示し、リストからも削除してください。\n",
        "5.  リストに含まれる `20` という値の数を数えて表示してください。\n",
        "6.  リストに含まれる `50` という値が最初に出てくるインデックス番号を表示してください。\n",
        "7.  リストを昇順にソートしてください。\n",
        "8.  ソートされたリストを逆順に並び替えてください。\n",
        "9.  最後に、現在のリスト全体を表示してください。"
      ]
    },
    {
      "cell_type": "code",
      "execution_count": null,
      "metadata": {
        "id": "ThQi-1yJyR_C"
      },
      "outputs": [],
      "source": [
        "# 問題 1 のコード\n",
        "my_list = [10, 20, 30, 40, 50, 20]\n",
        "\n",
        "# 1. 末尾に 60 を追加\n",
        "\n",
        "# 2. 先頭に 0 を挿入\n",
        "\n",
        "# 3. 値が 30 の要素を削除\n",
        "\n",
        "# 4. 末尾の要素を pop して表示\n",
        "\n",
        "# 5. 20 の数を数えて表示\n",
        "\n",
        "# 6. 50 のインデックスを表示\n",
        "\n",
        "# 7. リストをソート\n",
        "\n",
        "# 8. リストを逆順に\n",
        "\n",
        "# 9. 最終的なリストを表示"
      ]
    },
    {
      "cell_type": "markdown",
      "metadata": {
        "id": "9D6-6JlYyR_E"
      },
      "source": [
        "---\n",
        "\n",
        "**問題 2: リストのコピー**\n",
        "\n",
        "リストをコピーする際の注意点について確認しましょう。\n",
        "\n",
        "以下のコードを実行する前に、`list_a` を変更したら `list_b` はどうなるか、`list_c` はどうなるか予想してみてください。そして、実際にコードを実行して結果を確認し、なぜそうなるのか考えてみてください。"
      ]
    },
    {
      "cell_type": "code",
      "execution_count": null,
      "metadata": {
        "id": "_59im5-CyR_E"
      },
      "outputs": [],
      "source": [
        "# 問題 2 のコード\n",
        "list_a = [1, 2, 3]\n",
        "\n",
        "# list_b = list_a # 単純な代入の場合\n",
        "# list_c = list_a.copy() # .copy() を使った場合\n",
        "\n",
        "# # list_a に要素を追加\n",
        "# list_a.append(4)\n",
        "\n",
        "# print(\"list_a:\", list_a)\n",
        "# print(\"list_b:\", list_b)\n",
        "# print(\"list_c:\", list_c)"
      ]
    },
    {
      "cell_type": "markdown",
      "metadata": {
        "id": "KaEqlUK-yR_E"
      },
      "source": [
        "予想と実行結果から、単純な代入と `.copy()` の違いについて、テキストセルで説明を書いてみてください。\n",
        "\n",
        "---\n",
        "\n",
        "**問題 3: リスト内包表記**\n",
        "\n",
        "簡潔な方法でリストを作成するリスト内包表記を使ってみましょう。\n",
        "\n",
        "1.  0から9までの整数のうち、**偶数だけ**を要素とする新しいリスト `even_numbers` を、リスト内包表記を使って作成し、表示してください。"
      ]
    },
    {
      "cell_type": "code",
      "execution_count": null,
      "metadata": {
        "id": "-lKM8Z7eyR_E"
      },
      "outputs": [],
      "source": [
        "# 問題 3-1 のコード: 偶数のリスト内包表記\n",
        "# even_numbers = [...] # ここに内包表記を書く\n",
        "# print(even_numbers)"
      ]
    },
    {
      "cell_type": "markdown",
      "metadata": {
        "id": "86HzfMHkyR_F"
      },
      "source": [
        "2.  以下の `words` リストに含まれる各単語の**文字数**を要素とする新しいリスト `word_lengths` を、リスト内包表記を使って作成し、表示してください。"
      ]
    },
    {
      "cell_type": "code",
      "execution_count": null,
      "metadata": {
        "id": "OwsRnk_JyR_F"
      },
      "outputs": [],
      "source": [
        "# 問題 3-2 のコード: 文字数のリスト内包表記\n",
        "words = [\"apple\", \"banana\", \"cherry\", \"date\"]\n",
        "# word_lengths = [...] # ここに内包表記を書く\n",
        "# print(word_lengths)"
      ]
    },
    {
      "cell_type": "markdown",
      "metadata": {
        "id": "DsgYUfGiyR_F"
      },
      "source": [
        "---\n",
        "\n",
        "**問題 4: `del` 文**\n",
        "\n",
        "リストの要素や変数自体を削除する `del` 文を使ってみましょう。\n",
        "\n",
        "1.  以下の `shopping_list` リストから、インデックスが `1` の要素（\"バナナ\"）を `del` 文を使って削除し、残ったリストを表示してください。"
      ]
    },
    {
      "cell_type": "code",
      "execution_count": null,
      "metadata": {
        "id": "9wqliME-yR_F"
      },
      "outputs": [],
      "source": [
        "# 問題 4-1 のコード: リスト要素の削除\n",
        "shopping_list = [\"りんご\", \"バナナ\", \"オレンジ\", \"ぶどう\"]\n",
        "\n",
        "# ここでインデックス 1 の要素を削除\n",
        "\n",
        "# 最終的なリストを表示"
      ]
    },
    {
      "cell_type": "markdown",
      "metadata": {
        "id": "fCKyqpFHyR_G"
      },
      "source": [
        "2.  以下の `my_variable` という変数を定義した後、`del` 文を使ってその変数自体を削除してみてください。削除した後で `my_variable` を表示しようとするとエラーになることを確認してください（エラーになることを確認したら、その行はコメントアウトしてください）。"
      ]
    },
    {
      "cell_type": "code",
      "execution_count": null,
      "metadata": {
        "id": "Ny-2bO8EyR_G"
      },
      "outputs": [],
      "source": [
        "# 問題 4-2 のコード: 変数の削除\n",
        "my_variable = \"これは削除されます\"\n",
        "print(my_variable) # 削除前の表示\n",
        "\n",
        "# ここで my_variable を削除\n",
        "\n",
        "# print(my_variable) # 削除後の表示 (エラーになるはずなのでコメントアウト推奨)"
      ]
    },
    {
      "cell_type": "markdown",
      "metadata": {
        "id": "cSrgB9qRyR_G"
      },
      "source": [
        "---\n",
        "\n",
        "**問題 5: タプル (Tuple)**\n",
        "\n",
        "変更できないシーケンスであるタプルを使ってみましょう。\n",
        "\n",
        "1.  あなたの生年月日（年, 月, 日）を要素とするタプル `birth_date` を作成し、表示してください。\n",
        "2.  作成した `birth_date` タプルの最初の要素（年）と最後の要素（日）をそれぞれ表示してください。\n",
        "3.  (挑戦) `birth_date` タプルの最初の要素を変更しようとするコード（例: `birth_date[0] = 2000`）を書いて実行し、エラーになることを確認してください。タプルが変更できない（イミュータブル）であることを実感しましょう。（エラーになることを確認したら、その行はコメントアウトしてください。）"
      ]
    },
    {
      "cell_type": "code",
      "execution_count": null,
      "metadata": {
        "id": "JskIaCFmyR_G"
      },
      "outputs": [],
      "source": [
        "# 問題 5 のコード: タプル\n",
        "# 1. birth_date タプルを作成して表示\n",
        "\n",
        "# 2. 最初と最後の要素を表示\n",
        "\n",
        "# 3. 要素を変更しようとしてエラーを確認 (コメントアウト推奨)\n",
        "# birth_date[0] = 2000"
      ]
    },
    {
      "cell_type": "markdown",
      "metadata": {
        "id": "ARqqvH70yR_G"
      },
      "source": [
        "---\n",
        "\n",
        "**問題 6: 集合 (Set)**\n",
        "\n",
        "重複しない要素の集まりである集合を使ってみましょう。\n",
        "\n",
        "1.  以下の `numbers_list` に含まれる重複した要素を取り除き、一意な数値だけを要素とする集合 `unique_numbers` を作成し、表示してください。"
      ]
    },
    {
      "cell_type": "code",
      "execution_count": null,
      "metadata": {
        "id": "tSzKuAhGyR_G"
      },
      "outputs": [],
      "source": [
        "# 問題 6-1 のコード: 重複の削除\n",
        "numbers_list = [1, 2, 2, 3, 4, 4, 5, 1]\n",
        "# unique_numbers = ... # ここで集合を作成\n",
        "# print(unique_numbers)"
      ]
    },
    {
      "cell_type": "markdown",
      "metadata": {
        "id": "vCTB-Y_LyR_H"
      },
      "source": [
        "2.  二つの集合 `set_a` と `set_b` があります。これらの集合を使って、以下の操作を行い、結果を表示してください。\n",
        "    * `set_a` と `set_b` の**和集合**（どちらか一方、または両方に含まれる要素全て）\n",
        "    * `set_a` と `set_b` の**積集合**（両方に共通して含まれる要素）\n",
        "    * `set_a` から `set_b` を**引いた差集合**（`set_a` に含まれるが `set_b` には含まれない要素）"
      ]
    },
    {
      "cell_type": "code",
      "execution_count": null,
      "metadata": {
        "id": "ebv1G6pIyR_H"
      },
      "outputs": [],
      "source": [
        "# 問題 6-2 のコード: 集合演算\n",
        "set_a = {1, 2, 3, 4}\n",
        "set_b = {3, 4, 5, 6}\n",
        "\n",
        "# 和集合を計算して表示\n",
        "\n",
        "# 積集合を計算して表示\n",
        "\n",
        "# 差集合を計算して表示"
      ]
    },
    {
      "cell_type": "markdown",
      "metadata": {
        "id": "pW7iISHkyR_H"
      },
      "source": [
        "---\n",
        "\n",
        "**問題 7: 辞書 (Dictionary)**\n",
        "\n",
        "キーと値のペアを扱う辞書を使ってみましょう。\n",
        "\n",
        "1.  あなたの好きな果物とその英名をキーと値のペアとする辞書 `favorite_fruits_en` を作成し、表示してください（例: `'りんご': 'apple', 'バナナ': 'banana'`）。\n",
        "2.  作成した辞書を使って、「りんご」の英名を表示してください。\n",
        "3.  辞書に新しい果物とその英名（例: 「いちご」と「strawberry」）を追加し、辞書全体を表示してください。\n",
        "4.  辞書から「バナナ」のペアを削除し、辞書全体を表示してください。\n",
        "5.  辞書に含まれる**全てのキー**だけを表示してください（`keys()` メソッドを使用）。\n",
        "6.  辞書に含まれる**全ての値**だけを表示してください（`values()` メソッドを使用）。\n",
        "7.  辞書に含まれる**全てのキーと値のペア**を`(キー, 値)` のタプルのリストとして表示してください（`items()` メソッドを使用）。"
      ]
    },
    {
      "cell_type": "code",
      "execution_count": null,
      "metadata": {
        "id": "skVN7GBYyR_H"
      },
      "outputs": [],
      "source": [
        "# 問題 7 のコード: 辞書操作\n",
        "# 1. 辞書 favorite_fruits_en を作成して表示\n",
        "\n",
        "# 2. りんごの英名を表示\n",
        "\n",
        "# 3. いちごのペアを追加して表示\n",
        "\n",
        "# 4. バナナのペアを削除して表示\n",
        "\n",
        "# 5. 全てのキーを表示\n",
        "\n",
        "# 6. 全ての値を表示\n",
        "\n",
        "# 7. 全てのペアを表示"
      ]
    },
    {
      "cell_type": "markdown",
      "metadata": {
        "id": "DxpsRuVDyR_H"
      },
      "source": [
        "---\n",
        "\n",
        "**問題 8: 辞書内包表記**\n",
        "\n",
        "簡潔な方法で辞書を作成する辞書内包表記を使ってみましょう。\n",
        "\n",
        "0から4までの整数（0, 1, 2, 3, 4）をキーとし、それぞれの整数を2乗した値を値とする新しい辞書 `squares_dict` を、辞書内包表記を使って作成し、表示してください。\n",
        "\n",
        "期待される出力: `{0: 0, 1: 1, 2: 4, 3: 9, 4: 16}`"
      ]
    },
    {
      "cell_type": "code",
      "execution_count": null,
      "metadata": {
        "id": "D8KEzj3kyR_H"
      },
      "outputs": [],
      "source": [
        "# 問題 8 のコード: 辞書内包表記\n",
        "# squares_dict = {...} # ここに辞書内包表記を書く\n",
        "# print(squares_dict)"
      ]
    },
    {
      "cell_type": "markdown",
      "metadata": {
        "id": "32sb3LmfyR_H"
      },
      "source": [
        "---\n",
        "\n",
        "**問題 9: ループの便利なテクニック**\n",
        "\n",
        "データ構造をループ処理する際に役立ついくつかの関数を使ってみましょう。\n",
        "\n",
        "1.  以下の `names` リストを使って、要素とそのインデックス番号を一緒に表示するループを書いてください（`enumerate()` 関数を使用）。\n",
        "\n",
        "    期待される出力例:\n",
        "    ```\n",
        "    0: Alice\n",
        "    1: Bob\n",
        "    2: Charlie\n",
        "    ```"
      ]
    },
    {
      "cell_type": "code",
      "execution_count": null,
      "metadata": {
        "id": "gZSDTeF_yR_H"
      },
      "outputs": [],
      "source": [
        "# 問題 9-1 のコード: enumerate()\n",
        "names = [\"Alice\", \"Bob\", \"Charlie\"]\n",
        "\n",
        "# ここに for ループと enumerate() を書く"
      ]
    },
    {
      "cell_type": "markdown",
      "metadata": {
        "id": "JFWuhd5WyR_I"
      },
      "source": [
        "2.  以下の `products` リストと `prices` リストを使って、それぞれの商品の名前と価格をペアにして表示するループを書いてください（`zip()` 関数を使用）。\n",
        "\n",
        "    期待される出力例:\n",
        "    ```\n",
        "    ペン の価格は 150 円です。\n",
        "    ノート の価格は 300 円です。\n",
        "    消しゴム の価格は 100 円です。\n",
        "    ```"
      ]
    },
    {
      "cell_type": "code",
      "execution_count": null,
      "metadata": {
        "id": "MsFbyt1myR_I"
      },
      "outputs": [],
      "source": [
        "# 問題 9-2 のコード: zip()\n",
        "products = [\"ペン\", \"ノート\", \"消しゴム\"]\n",
        "prices = [150, 300, 100]\n",
        "\n",
        "# ここに for ループと zip() を書く"
      ]
    },
    {
      "cell_type": "markdown",
      "metadata": {
        "id": "vDZ8lo2lyR_I"
      },
      "source": [
        "3.  以下の `numbers` リストを**ソートした新しいリスト**を作成して表示してください（`sorted()` 関数を使用。元のリスト `numbers` は変更しないでください）。"
      ]
    },
    {
      "cell_type": "code",
      "execution_count": null,
      "metadata": {
        "id": "y1a1Z2bbyR_I"
      },
      "outputs": [],
      "source": [
        "# 問題 9-3 のコード: sorted()\n",
        "numbers = [5, 2, 8, 1, 9, 4]\n",
        "\n",
        "# ここで sorted() を使って新しいリストを作成して表示\n",
        "\n",
        "# print(numbers) # 元のリストが変わらないことを確認したい場合"
      ]
    },
    {
      "cell_type": "markdown",
      "metadata": {
        "id": "DTBmRBSjyR_I"
      },
      "source": [
        "4.  以下の `letters` リストの要素を**逆順で**表示するループを書いてください（`reversed()` 関数を使用。元のリスト `letters` は変更しないでください）。"
      ]
    },
    {
      "cell_type": "code",
      "execution_count": null,
      "metadata": {
        "id": "0mSelj0vyR_I"
      },
      "outputs": [],
      "source": [
        "# 問題 9-4 のコード: reversed()\n",
        "letters = [\"A\", \"B\", \"C\", \"D\"]\n",
        "\n",
        "# ここに for ループと reversed() を書く"
      ]
    },
    {
      "cell_type": "markdown",
      "metadata": {
        "id": "hmB2v43ryR_I"
      },
      "source": [
        "---\n",
        "\n",
        "**問題 10: 条件について詳しく**\n",
        "\n",
        "条件式を記述する際のいくつかの便利な方法を練習しましょう。\n",
        "\n",
        "1.  変数 `x` に任意の数値を代入し、その数値が 10 より大きく、かつ 20 より小さいかどうかを判定するコードを書いてください（比較演算子の連鎖を使用）。条件を満たすかどうかに応じてメッセージを表示してください。"
      ]
    },
    {
      "cell_type": "code",
      "execution_count": null,
      "metadata": {
        "id": "rn4OCPDWyR_I"
      },
      "outputs": [],
      "source": [
        "# 問題 10-1 のコード: 比較演算子の連鎖\n",
        "x = 15 # この値を色々変えて試してみましょう\n",
        "\n",
        "# ここに条件式を書いてメッセージを表示"
      ]
    },
    {
      "cell_type": "markdown",
      "metadata": {
        "id": "C4_c1fhayR_I"
      },
      "source": [
        "2.  以下の `fruits` リストに `\"バナナ\"` が含まれているかどうか、また `\"キウイ\"` が含まれて**いない**かどうかを判定するコードをそれぞれ書いてください（`in` および `not in` 演算子を使用）。"
      ]
    },
    {
      "cell_type": "code",
      "execution_count": null,
      "metadata": {
        "id": "Ez7VW-TayR_I"
      },
      "outputs": [],
      "source": [
        "# 問題 10-2 のコード: in / not in\n",
        "fruits = [\"りんご\", \"バナナ\", \"オレンジ\"]\n",
        "\n",
        "# \"バナナ\" が含まれているか判定\n",
        "\n",
        "# \"キウイ\" が含まれていないか判定"
      ]
    },
    {
      "cell_type": "markdown",
      "metadata": {
        "id": "EmAH-OH8yR_J"
      },
      "source": [
        "3.  以下のコードを実行する前に、`list1 is list2` と `list1 is list3` の結果がそれぞれ `True` または `False` のどちらになるか予想してください。そして、実際にコードを実行して結果を確認し、なぜそうなるのか考えてみてください（`is` 演算子は値の等しさではなく、**オブジェクトが同じかどうか**を判定します）。"
      ]
    },
    {
      "cell_type": "code",
      "execution_count": null,
      "metadata": {
        "id": "9d7MusXQyR_J"
      },
      "outputs": [],
      "source": [
        "# 問題 10-3 のコード: is 演算子\n",
        "list1 = [1, 2, 3]\n",
        "list2 = list1\n",
        "list3 = list1.copy() # または list3 = [1, 2, 3]\n",
        "\n",
        "# print(list1 is list2)\n",
        "# print(list1 is list3)"
      ]
    },
    {
      "cell_type": "markdown",
      "metadata": {
        "id": "cFoy-LhpyR_J"
      },
      "source": [
        "予想と実行結果から、`is` 演算子の振る舞いについてテキストセルで説明を書いてみてください。\n",
        "\n",
        "4.  Pythonでは、特定の「空」や「ゼロ」の値は真偽値として `False` とみなされます。以下の変数 `value` に様々な値を代入しながら、`if value:` という条件式が `True` になるか `False` になるかを確認してください。特に、`0` (整数), `0.0` (浮動小数点数), `\"\"` (空文字列), `[]` (空リスト), `{}` (空辞書), `set()` (空集合), `None` の場合にどうなるか確認してみましょう。"
      ]
    },
    {
      "cell_type": "code",
      "execution_count": null,
      "metadata": {
        "id": "twM9Ie9pyR_J"
      },
      "outputs": [],
      "source": [
        "# 問題 10-4 のコード: 真偽値テスト\n",
        "value = 0 # ここに様々な値を代入して試してみましょう (例: 0, \"\", [], None, 1, \"Hello\", [1])\n",
        "\n",
        "# if value:\n",
        "#     print(f\"'{value}' は True とみなされます。\")\n",
        "# else:\n",
        "#     print(f\"'{value}' は False とみなされます。\")"
      ]
    }
  ],
  "metadata": {
    "colab": {
      "provenance": []
    },
    "kernelspec": {
      "display_name": "Python 3",
      "name": "python3"
    }
  },
  "nbformat": 4,
  "nbformat_minor": 0
}
