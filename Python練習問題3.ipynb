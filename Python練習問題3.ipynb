{
  "cells": [
    {
      "cell_type": "markdown",
      "metadata": {
        "id": "BmNb9lrQvrBk"
      },
      "source": [
        "---\n",
        "\n",
        "### Python 導入編 練習問題集\n",
        "\n",
        "これらの問題は、Pythonチュートリアルの導入部分 ([https://docs.python.org/ja/3.13/tutorial/introduction.html](https://docs.python.org/ja/3.13/tutorial/introduction.html)) を学習した方向けです。\n",
        "\n",
        "---\n",
        "\n",
        "**問題 1: 変数と基本的な計算**\n",
        "\n",
        "変数を使って数値計算を行い、その結果を表示してみましょう。\n",
        "\n",
        "ある商品の税抜き価格が `price_without_tax = 2500` 円です。消費税率が 10% (`tax_rate = 0.10`) の場合、税込み価格を計算して `total_price` という変数に代入し、その値を画面に表示するコードを書いてください。"
      ]
    },
    {
      "cell_type": "code",
      "execution_count": null,
      "metadata": {
        "id": "iXgWbvu-vrBp"
      },
      "outputs": [],
      "source": [
        "# 問題 1 のコードをここに書く\n",
        "price_without_tax = 2500\n",
        "tax_rate = 0.10\n",
        "\n",
        "# 税込み価格を計算して変数 total_price に代入\n",
        "\n",
        "# total_price の値を画面に表示"
      ]
    },
    {
      "cell_type": "markdown",
      "metadata": {
        "id": "kS9g7zcJvrBq"
      },
      "source": [
        "---\n",
        "\n",
        "**問題 2: 文字列の操作**\n",
        "\n",
        "文字列の扱い方を練習しましょう。\n",
        "\n",
        "`greeting = \"こんにちは\"` という文字列と `name = \"山田\"` という文字列があります。これらの変数を使って、「こんにちは、山田さん！」というメッセージを作成し、`message` という変数に代入して表示するコードを書いてください。\n",
        "次に、`message` という文字列の文字数（長さ）を表示するコードも追加してください。"
      ]
    },
    {
      "cell_type": "code",
      "execution_count": null,
      "metadata": {
        "id": "olboNQaYvrBr"
      },
      "outputs": [],
      "source": [
        "# 問題 2 のコードをここに書く\n",
        "greeting = \"こんにちは\"\n",
        "name = \"山田\"\n",
        "\n",
        "# greeting と name を使ってメッセージを作成し、変数 message に代入\n",
        "\n",
        "# message の値を画面に表示\n",
        "\n",
        "# message の文字数を表示"
      ]
    },
    {
      "cell_type": "markdown",
      "metadata": {
        "id": "57sFK2vhvrBs"
      },
      "source": [
        "---\n",
        "\n",
        "**問題 3: リストの操作**\n",
        "\n",
        "リストの作成、要素へのアクセス、要素の追加・削除・変更に挑戦しましょう。\n",
        "\n",
        "以下の手順でリストを操作するコードを書いてください。\n",
        "\n",
        "1.  好きな色を3つ要素とするリスト `colors` を作成し、表示する。\n",
        "2.  `colors` リストの最初の要素を画面に表示する。\n",
        "3.  `colors` リストの最後の要素を画面に表示する。\n",
        "4.  `colors` リストに新しい色を一つ追加し、リスト全体を表示する。\n",
        "5.  `colors` リストの2番目の要素（インデックス1）を別の色に変更し、リスト全体を表示する。\n",
        "6.  `colors` リストから最初の要素を削除し、リスト全体を表示する。\n",
        "7.  現在の `colors` リストに含まれる要素の数を表示する。"
      ]
    },
    {
      "cell_type": "code",
      "execution_count": null,
      "metadata": {
        "id": "o0ZhURMnvrBs"
      },
      "outputs": [],
      "source": [
        "# 問題 3 のコードをここに書く\n",
        "\n",
        "# 1. colors リストを作成して表示\n",
        "\n",
        "# 2. 最初の要素を表示\n",
        "\n",
        "# 3. 最後の要素を表示\n",
        "\n",
        "# 4. 新しい色を追加して表示\n",
        "\n",
        "# 5. 2番目の要素を変更して表示\n",
        "\n",
        "# 6. 最初の要素を削除して表示\n",
        "\n",
        "# 7. 要素の数を表示"
      ]
    },
    {
      "cell_type": "markdown",
      "metadata": {
        "id": "FX9aNQoJvrBt"
      },
      "source": [
        "---\n",
        "\n",
        "**問題 4: 複数のデータ型と操作の組み合わせ**\n",
        "\n",
        "これまでに学んだ数値、文字列、リストの知識を組み合わせて、少し応用的な問題に挑戦しましょう。\n",
        "\n",
        "あなたがお気に入りの本を3冊選びました。それぞれの本のタイトルと価格は以下の通りです。\n",
        "\n",
        "* タイトル: \"不思議の国のアリス\", 価格: 1200\n",
        "* タイトル: \"星の王子さま\", 価格: 950\n",
        "* タイトル: \"坊っちゃん\", 価格: 800\n",
        "\n",
        "これらの本のタイトルを要素とするリスト `book_titles` と、それぞれの価格を要素とするリスト `book_prices` を作成してください。\n",
        "次に、`book_titles` リストと `book_prices` リストを使って、以下のような形式で各本のタイトルと価格を表示するコードを書いてください（ループは使わず、インデックスを使ってアクセスしてください）。\n",
        "\n",
        "例:\n",
        "不思議の国のアリス の価格は 1200 円です。\n",
        "星の王子さま の価格は 950 円です。\n",
        "坊っちゃん の価格は 800 円です。"
      ]
    },
    {
      "cell_type": "code",
      "execution_count": null,
      "metadata": {
        "id": "zgjGTlu3vrBt"
      },
      "outputs": [],
      "source": [
        "# 問題 4 のコードをここに書く\n",
        "\n",
        "# book_titles リストを作成\n",
        "\n",
        "# book_prices リストを作成\n",
        "\n",
        "# 各本のタイトルと価格を表示 (インデックスを使用)"
      ]
    }
  ],
  "metadata": {
    "colab": {
      "provenance": []
    },
    "kernelspec": {
      "display_name": "Python 3",
      "name": "python3"
    }
  },
  "nbformat": 4,
  "nbformat_minor": 0
}
