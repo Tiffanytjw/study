{
  "cells": [
    {
      "cell_type": "markdown",
      "metadata": {
        "id": "-mbfgjY8c3IX"
      },
      "source": [
        "### Python モジュール編 練習問題集\n",
        "\n",
        "これらの問題は、Pythonチュートリアルの「モジュール」の章の内容に基づいています。ノートブックのマジックコマンド (`%%writefile`, `!`) を使用します。これらのコマンドが利用できない場合は、ローカル環境で`.py`ファイルを作成・実行しながら概念を確認してみてください。\n",
        "\n",
        "---\n",
        "\n",
        "**問題 1: 簡単なモジュールの作成とインポート**\n",
        "\n",
        "独自のモジュールを作成し、それを別の場所からインポートして使う練習をしましょう。\n",
        "\n",
        "1.  以下のセルを実行して、`my_utils.py` という名前のファイルを作成してください。このファイルには、簡単な関数 `add(a, b)` （2つの数を足して返す）と、変数 `PI = 3.14` を含めます。"
      ]
    },
    {
      "cell_type": "code",
      "execution_count": null,
      "metadata": {
        "id": "Fv_GI6T5c3IY"
      },
      "outputs": [],
      "source": [
        "# 問題 1-1 のコード: モジュールファイルの作成\n",
        "%%writefile my_utils.py\n",
        "# my_utils.py という名前で保存されます\n",
        "\n",
        "def add(a, b):\n",
        "    \"\"\"2つの数を合計して返します\"\"\"\n",
        "    return a + b\n",
        "\n",
        "PI = 3.14"
      ]
    },
    {
      "cell_type": "markdown",
      "metadata": {
        "id": "F8ckjei1c3IZ"
      },
      "source": [
        "2.  新しくセルを作成し、先ほど作成した `my_utils` モジュールを `import` してください。そして、`my_utils.add(5, 3)` を呼び出した結果と、`my_utils.PI` の値を表示するコードを書いてください。"
      ]
    },
    {
      "cell_type": "code",
      "execution_count": null,
      "metadata": {
        "id": "YP9WlW9lc3IZ"
      },
      "outputs": [],
      "source": [
        "# 問題 1-2 のコード: モジュールのインポートと利用\n",
        "# import my_utils\n",
        "\n",
        "# # add 関数と PI 変数を利用して結果を表示"
      ]
    },
    {
      "cell_type": "markdown",
      "metadata": {
        "id": "LuiWBaNyc3Ia"
      },
      "source": [
        "---\n",
        "\n",
        "**問題 2: 異なるインポート方法**\n",
        "\n",
        "モジュールやその中の要素をインポートする様々な方法を練習し、それぞれの違いを理解しましょう。問題1で作成した `my_utils.py` を使います。\n",
        "\n",
        "1.  `my_utils` モジュールを `import my_utils as mu` としてインポートし、エイリアス (`mu`) を使って `add` 関数と `PI` にアクセスするコードを書いてください。"
      ]
    },
    {
      "cell_type": "code",
      "execution_count": null,
      "metadata": {
        "id": "C0znE2w3c3Ia"
      },
      "outputs": [],
      "source": [
        "# 問題 2-1 のコード: エイリアスを使ったインポート\n",
        "# import my_utils as mu\n",
        "\n",
        "# # mu を使って add 関数と PI 変数を利用して結果を表示"
      ]
    },
    {
      "cell_type": "markdown",
      "metadata": {
        "id": "En-lDJnXc3Ia"
      },
      "source": [
        "2.  `my_utils` モジュールから `add` 関数だけを直接インポート (`from my_utils import add`) して、`add` 関数をモジュール名をつけずに直接呼び出すコードを書いてください。"
      ]
    },
    {
      "cell_type": "code",
      "execution_count": null,
      "metadata": {
        "id": "qb0FjyQbc3Ib"
      },
      "outputs": [],
      "source": [
        "# 問題 2-2 のコード: 特定の要素だけをインポート\n",
        "# from my_utils import add\n",
        "\n",
        "# # add 関数を直接呼び出す"
      ]
    },
    {
      "cell_type": "markdown",
      "metadata": {
        "id": "QZLioXGdc3Ib"
      },
      "source": [
        "3.  (非推奨ですが練習として) `my_utils` モジュールから全ての名前をインポート (`from my_utils import *`) して、`add` 関数と `PI` をモジュール名をつけずに直接利用するコードを書いてください。この方法がなぜ一般的に非推奨とされるか、簡単に説明を加えてみてください。（テキストセルでも可）"
      ]
    },
    {
      "cell_type": "code",
      "execution_count": null,
      "metadata": {
        "id": "kDGpq3AQc3Ib"
      },
      "outputs": [],
      "source": [
        "# 問題 2-3 のコード: すべての要素をインポート (* インポート)\n",
        "# from my_utils import *\n",
        "\n",
        "# # add 関数と PI 変数を直接利用して結果を表示"
      ]
    },
    {
      "cell_type": "markdown",
      "metadata": {
        "id": "H52Y3FgUc3Ic"
      },
      "source": [
        "---\n",
        "\n",
        "**問題 3: 標準モジュールの利用**\n",
        "\n",
        "Pythonに標準で備わっている便利なモジュールを使ってみましょう。\n",
        "\n",
        "1.  `math` モジュールをインポートし、円周率 (`math.pi`) と、数値 `16` の平方根 (`math.sqrt(16)`) をそれぞれ表示するコードを書いてください。"
      ]
    },
    {
      "cell_type": "code",
      "execution_count": null,
      "metadata": {
        "id": "cB-a2cGMc3Ic"
      },
      "outputs": [],
      "source": [
        "# 問題 3-1 のコード: math モジュール\n",
        "# import math\n",
        "\n",
        "# # 円周率と平方根を表示"
      ]
    },
    {
      "cell_type": "markdown",
      "metadata": {
        "id": "mSOC0mWOc3Ic"
      },
      "source": [
        "2.  `random` モジュールをインポートし、1から10までの範囲の**整数**をランダムに一つ生成して表示するコードを書いてください。何度か実行して、毎回異なる数値が表示されることを確認してみましょう。"
      ]
    },
    {
      "cell_type": "code",
      "execution_count": null,
      "metadata": {
        "id": "wWruYdZxc3Ic"
      },
      "outputs": [],
      "source": [
        "# 問題 3-2 のコード: random モジュール\n",
        "# import random\n",
        "\n",
        "# # 1から10までのランダムな整数を生成して表示"
      ]
    },
    {
      "cell_type": "markdown",
      "metadata": {
        "id": "dPM4LRlAc3Ic"
      },
      "source": [
        "---\n",
        "\n",
        "**問題 4: `dir()` 関数**\n",
        "\n",
        "モジュールがどのような名前（関数、変数など）を持っているかを調べる `dir()` 関数を使ってみましょう。\n",
        "\n",
        "1.  `math` モジュールをインポートし、`dir(math)` を実行して、`math` モジュールが持つ名前のリストを表示してください。"
      ]
    },
    {
      "cell_type": "code",
      "execution_count": null,
      "metadata": {
        "id": "y4GMeu6-c3Ic"
      },
      "outputs": [],
      "source": [
        "# 問題 4-1 のコード: dir(math)\n",
        "# import math\n",
        "# print(dir(math))"
      ]
    },
    {
      "cell_type": "markdown",
      "metadata": {
        "id": "U0p_lm1Fc3Id"
      },
      "source": [
        "2.  問題1で作成した `my_utils` モジュールをインポートし、`dir(my_utils)` を実行して結果を確認してください。作成した `add` 関数や `PI` が含まれていることを確認してみましょう。（ノートブックの実行環境によっては、一度モジュールをインポートしないとリストに含まれないことがあります。）"
      ]
    },
    {
      "cell_type": "code",
      "execution_count": null,
      "metadata": {
        "id": "1fO95aK4c3Id"
      },
      "outputs": [],
      "source": [
        "# 問題 4-2 のコード: dir(my_utils)\n",
        "# import my_utils # 必要であれば再度インポート\n",
        "# print(dir(my_utils))"
      ]
    },
    {
      "cell_type": "markdown",
      "metadata": {
        "id": "bFSv_rRJc3Id"
      },
      "source": [
        "---\n",
        "\n",
        "**問題 5: パッケージのシミュレーション**\n",
        "\n",
        "複数のモジュールをまとめた「パッケージ」の構造とインポート方法を練習しましょう。ディレクトリと `__init__.py` ファイルを作成することでパッケージとして認識されます。\n",
        "\n",
        "1.  マジックコマンドを使って、以下のようなディレクトリ構造とファイルを作成するシミュレーションを行います。`my_package` というディレクトリの中に、`__init__.py` と `data_ops.py` ファイルを作成してください。`__init__.py` は空で構いません。`data_ops.py` には、リストの合計を計算する簡単な関数 `calculate_total(data_list)` を定義してください。"
      ]
    },
    {
      "cell_type": "code",
      "execution_count": null,
      "metadata": {
        "id": "L3vSDDrHc3Id"
      },
      "outputs": [],
      "source": [
        "# 問題 5-1 のコード: パッケージ構造の作成 (my_package/__init__.py)\n",
        "!mkdir my_package # ディレクトリを作成するコマンド\n",
        "%%writefile my_package/__init__.py\n",
        "# このファイルがあると my_package ディレクトリがPythonのパッケージとして認識されます"
      ]
    },
    {
      "cell_type": "code",
      "execution_count": null,
      "metadata": {
        "id": "JSzahFwXc3Id"
      },
      "outputs": [],
      "source": [
        "# 問題 5-1 のコード: パッケージ内のモジュール作成 (my_package/data_ops.py)\n",
        "%%writefile my_package/data_ops.py\n",
        "# my_package パッケージ内のモジュールです\n",
        "\n",
        "def calculate_total(data_list):\n",
        "    \"\"\"リストに含まれる数値の合計を計算して返します\"\"\"\n",
        "    return sum(data_list)"
      ]
    },
    {
      "cell_type": "markdown",
      "metadata": {
        "id": "KKw7Uyozc3Id"
      },
      "source": [
        "2.  新しくセルを作成し、作成したパッケージ内のモジュール `data_ops` を `import my_package.data_ops` としてインポートしてください。そして、`my_package.data_ops.calculate_total([10, 20, 30])` を呼び出した結果を表示してください。"
      ]
    },
    {
      "cell_type": "code",
      "execution_count": null,
      "metadata": {
        "id": "0JxAn7Yzc3Id"
      },
      "outputs": [],
      "source": [
        "# 問題 5-2 のコード: パッケージ内のモジュールのインポートと利用 (方法1)\n",
        "# import my_package.data_ops\n",
        "\n",
        "# # calculate_total 関数を呼び出して結果を表示"
      ]
    },
    {
      "cell_type": "markdown",
      "metadata": {
        "id": "kaPezAPOc3Id"
      },
      "source": [
        "3.  新しくセルを作成し、パッケージ内のモジュール `data_ops` から `calculate_total` 関数を直接インポート (`from my_package.data_ops import calculate_total`) して、関数名をそのまま呼び出すコードを書いてください。"
      ]
    },
    {
      "cell_type": "code",
      "execution_count": null,
      "metadata": {
        "id": "C8gaOzqMc3Id"
      },
      "outputs": [],
      "source": [
        "# 問題 5-3 のコード: パッケージ内のモジュールのインポートと利用 (方法2)\n",
        "# from my_package.data_ops import calculate_total\n",
        "\n",
        "# # calculate_total 関数を直接呼び出して結果を表示"
      ]
    },
    {
      "cell_type": "markdown",
      "metadata": {
        "id": "Ya_9B-M7c3Ie"
      },
      "source": [
        "---\n",
        "\n",
        "**問題 6: `sys.path` の確認**\n",
        "\n",
        "Pythonがモジュールを探しに行く場所（パス）を確認してみましょう。\n",
        "\n",
        "`sys` モジュールをインポートし、`sys.path` の値を表示するコードを書いてください。このリストには、Pythonが `import` 文で指定されたモジュールを探すディレクトリのパスが含まれています。ノートブック環境の場合、一時的なディレクトリなどが含まれることがあります。"
      ]
    },
    {
      "cell_type": "code",
      "execution_count": null,
      "metadata": {
        "id": "s2an3NtQc3Ie"
      },
      "outputs": [],
      "source": [
        "# 問題 6 のコード: sys.path の確認\n",
        "# import sys\n",
        "# print(sys.path)"
      ]
    },
    {
      "cell_type": "markdown",
      "metadata": {
        "id": "ESvRtyjfc3Ie"
      },
      "source": [
        "---\n",
        "\n",
        "**問題 7: モジュールをスクリプトとして実行 (`if __name__ == \"__main__\":`)**\n",
        "\n",
        "モジュールが直接実行された場合と、インポートされた場合とで処理を分けたいときによく使うイディオムを練習しましょう。\n",
        "\n",
        "1.  以下のセルを実行して、`execution_check.py` というファイルを作成してください。このファイルには、簡単なメッセージ表示と、`if __name__ == \"__main__\":` ブロックの中に別のメッセージ表示を含めます。"
      ]
    },
    {
      "cell_type": "code",
      "execution_count": null,
      "metadata": {
        "id": "3vpwzNCOc3Ie"
      },
      "outputs": [],
      "source": [
        "# 問題 7-1 のコード: スクリプトファイルの作成\n",
        "%%writefile execution_check.py\n",
        "# execution_check.py という名前で保存されます\n",
        "\n",
        "print(\"これは常に表示されます。\")\n",
        "\n",
        "if __name__ == \"__main__\":\n",
        "    print(\"このブロックはスクリプトとして直接実行された場合にのみ表示されます。\")"
      ]
    },
    {
      "cell_type": "markdown",
      "metadata": {
        "id": "-fA1gqKGc3Ie"
      },
      "source": [
        "2.  新しくセルを作成し、作成した `execution_check.py` を**通常のスクリプトとして**実行してみてください（ノートブック環境では行頭に `!` をつけて実行します）。どのような出力が表示されますか？"
      ]
    },
    {
      "cell_type": "code",
      "execution_count": null,
      "metadata": {
        "id": "GXVW-2_Gc3Ie"
      },
      "outputs": [],
      "source": [
        "# 問題 7-2 のコード: スクリプトとして直接実行\n",
        "# !python execution_check.py"
      ]
    },
    {
      "cell_type": "markdown",
      "metadata": {
        "id": "b-MRcnrIc3Ie"
      },
      "source": [
        "3.  新しくセルを作成し、今度は `execution_check` モジュールを**別のスクリプト（このノートブックのセル）からインポート**してみてください（例: `import execution_check`）。どのような出力が表示されますか？問題 7-2 の結果と比べて、出力の違いとその理由を考えてみましょう。"
      ]
    },
    {
      "cell_type": "code",
      "execution_count": null,
      "metadata": {
        "id": "J8WkNiZbc3Ie"
      },
      "outputs": [],
      "source": [
        "# 問題 7-3 のコード: モジュールとしてインポート\n",
        "# import execution_check\n",
        "\n",
        "# # 必要であれば、ここで execution_check モジュール内の関数などを呼び出してみる\n",
        "# # ただし、この問題の目的はインポート時の __name__ の値の確認です"
      ]
    },
    {
      "cell_type": "markdown",
      "metadata": {
        "id": "wTH16TXuc3Ie"
      },
      "source": [
        "問題 7-2 と 7-3 の結果から、`if __name__ == \"__main__\":` ブロックが実行されるのはどのような場合か、テキストセルで説明をまとめてみてください。\n",
        "\n",
        "---\n",
        "\n",
        "練習問題は以上です。\n",
        "\n",
        "これらの問題を通して、Pythonのモジュールとパッケージの仕組み、様々なインポート方法、そして標準モジュールの利用について、実践的な理解が深まるはずです。"
      ]
    },
    {
      "cell_type": "code",
      "execution_count": null,
      "metadata": {
        "id": "lL8tBMOGdJYn"
      },
      "outputs": [],
      "source": []
    }
  ],
  "metadata": {
    "colab": {
      "provenance": []
    },
    "kernelspec": {
      "display_name": ".env",
      "language": "python",
      "name": "python3"
    },
    "language_info": {
      "codemirror_mode": {
        "name": "ipython",
        "version": 3
      },
      "file_extension": ".py",
      "mimetype": "text/x-python",
      "name": "python",
      "nbconvert_exporter": "python",
      "pygments_lexer": "ipython3",
      "version": "3.11.9"
    }
  },
  "nbformat": 4,
  "nbformat_minor": 0
}
