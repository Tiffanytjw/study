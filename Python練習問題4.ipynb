{
  "cells": [
    {
      "cell_type": "markdown",
      "metadata": {
        "id": "NyZlSUtExb72"
      },
      "source": [
        "---\n",
        "\n",
        "### Python 制御フロー編 練習問題集\n",
        "\n",
        "これらの問題は、Pythonチュートリアルの「制御フローツール」の章の内容に基づいています。\n",
        "\n",
        "---\n",
        "\n",
        "**問題 1: `if`, `elif`, `else` 文**\n",
        "\n",
        "条件によって処理を分岐させる練習をしましょう。\n",
        "\n",
        "以下の `score` 変数に点数が格納されています。この点数に応じて、以下のメッセージを表示するコードを書いてください。\n",
        "\n",
        "* `score` が 80点以上の場合: `\"素晴らしい点数です！\"`\n",
        "* `score` が 60点以上 80点未満の場合: `\"よくできました！\"`\n",
        "* `score` が 60点未満の場合: `\"もう少し頑張りましょう。\"`"
      ]
    },
    {
      "cell_type": "code",
      "execution_count": null,
      "metadata": {
        "id": "uhqey9qVxb75"
      },
      "outputs": [],
      "source": [
        "# 問題 1 のコード\n",
        "score = 75 # この値を色々変えて試してみましょう\n",
        "\n",
        "# ここに if/elif/else 文を書く"
      ]
    },
    {
      "cell_type": "markdown",
      "metadata": {
        "id": "zhZC7wDxxb77"
      },
      "source": [
        "---\n",
        "\n",
        "**問題 2: `for` 文と `range()` 関数**\n",
        "\n",
        "繰り返し処理と、数値のシーケンス生成を練習しましょう。\n",
        "\n",
        "1.  以下の `fruits` リストに含まれる果物の名前を、一つずつ順番に画面に表示する `for` ループを使ったコードを書いてください。"
      ]
    },
    {
      "cell_type": "code",
      "execution_count": null,
      "metadata": {
        "id": "Zf03N2ohxb77"
      },
      "outputs": [],
      "source": [
        "# 問題 2-1 のコード\n",
        "fruits = [\"りんご\", \"バナナ\", \"いちご\", \"ぶどう\"]\n",
        "\n",
        "# ここに for ループを書く"
      ]
    },
    {
      "cell_type": "markdown",
      "metadata": {
        "id": "SIOu4pJfxb77"
      },
      "source": [
        "2.  `range()` 関数を使って、0から4までの整数（0, 1, 2, 3, 4）を順番に画面に表示するコードを書いてください。"
      ]
    },
    {
      "cell_type": "code",
      "execution_count": null,
      "metadata": {
        "id": "39Oam61Nxb77"
      },
      "outputs": [],
      "source": [
        "# 問題 2-2 のコード\n",
        "# ここに range() と for ループを書く"
      ]
    },
    {
      "cell_type": "markdown",
      "metadata": {
        "id": "8Qr4cAznxb78"
      },
      "source": [
        "3.  `range()` 関数を使って、10から20までの整数（10を含む、20を含まない）を順番に、**2つ飛ばし**（10, 12, 14, ...）で画面に表示するコードを書いてください。"
      ]
    },
    {
      "cell_type": "code",
      "execution_count": null,
      "metadata": {
        "id": "-twHSMogxb78"
      },
      "outputs": [],
      "source": [
        "# 問題 2-3 のコード\n",
        "# ここに range() のステップ引数を使って for ループを書く"
      ]
    },
    {
      "cell_type": "markdown",
      "metadata": {
        "id": "QVGe0nauxb78"
      },
      "source": [
        "---\n",
        "\n",
        "**問題 3: ループ制御 (`break`, `continue`)**\n",
        "\n",
        "ループの途中で処理の流れを変える方法を練習しましょう。\n",
        "\n",
        "1.  1から10までの整数を順番に表示するループを書いてください。ただし、数値が `5` になったら、それ以降の表示はせずにループを**終了**するようにしてください (`break` を使用)。"
      ]
    },
    {
      "cell_type": "code",
      "execution_count": null,
      "metadata": {
        "id": "QCnB4EqExb79"
      },
      "outputs": [],
      "source": [
        "# 問題 3-1 のコード\n",
        "# ここに for ループと break を書く"
      ]
    },
    {
      "cell_type": "markdown",
      "metadata": {
        "id": "0EfQxypFxb79"
      },
      "source": [
        "2.  1から10までの整数を順番に表示するループを書いてください。ただし、数値が**偶数**の場合は表示を**スキップ**し、奇数だけを表示するようにしてください (`continue` を使用)。"
      ]
    },
    {
      "cell_type": "code",
      "execution_count": null,
      "metadata": {
        "id": "erRUBPGBxb79"
      },
      "outputs": [],
      "source": [
        "# 問題 3-2 のコード\n",
        "# ここに for ループと continue を書く"
      ]
    },
    {
      "cell_type": "markdown",
      "metadata": {
        "id": "fqWiXNf4xb79"
      },
      "source": [
        "---\n",
        "\n",
        "**問題 4: `match` 文 (Python 3.10 以降)**\n",
        "\n",
        "値のパターンマッチングを使った条件分岐を練習しましょう。（この構文はPython 3.10で導入されました。お使いの環境のPythonバージョンが3.10以降である必要があります。）\n",
        "\n",
        "以下の `status_code` 変数にHTTPステータスコードが格納されています。`match` 文を使って、以下のコードに応じてメッセージを表示するコードを書いてください。\n",
        "\n",
        "* `200`: `\"OK: リクエストは成功しました。\"`\n",
        "* `404`: `\"Not Found: ページが見つかりません。\"`\n",
        "* `500`: `\"Internal Server Error: サーバー内部エラーです。\"`\n",
        "* それ以外の数値: `\"不明なステータスコードです。\"`"
      ]
    },
    {
      "cell_type": "code",
      "execution_count": null,
      "metadata": {
        "id": "KNLYgikfxb79"
      },
      "outputs": [],
      "source": [
        "# 問題 4 のコード: match 文\n",
        "status_code = 404 # この値を色々変えて試してみましょう\n",
        "\n",
        "# ここに match 文を書く"
      ]
    },
    {
      "cell_type": "markdown",
      "metadata": {
        "id": "AMF3e4jDxb7-"
      },
      "source": [
        "---\n",
        "\n",
        "**問題 5: 関数の定義と呼び出し (`def`)**\n",
        "\n",
        "独自の処理のまとまりである関数を定義し、呼び出す練習をしましょう。\n",
        "\n",
        "1.  引数を取らず、「Pythonの世界へようこそ！」と表示するだけの関数 `welcome_message()` を定義し、その関数を呼び出すコードを書いてください。"
      ]
    },
    {
      "cell_type": "code",
      "execution_count": null,
      "metadata": {
        "id": "AfehINXzxb7-"
      },
      "outputs": [],
      "source": [
        "# 問題 5-1 のコード: 引数なし関数の定義と呼び出し\n",
        "# ここに関数を定義\n",
        "\n",
        "# 関数を呼び出す"
      ]
    },
    {
      "cell_type": "markdown",
      "metadata": {
        "id": "ZNVf6ditxb7-"
      },
      "source": [
        "2.  一つの引数（名前）を受け取り、「こんにちは、[名前]さん！」というメッセージを表示する関数 `say_hello(name)` を定義し、あなたの名前を引数として関数を呼び出すコードを書いてください。"
      ]
    },
    {
      "cell_type": "code",
      "execution_count": null,
      "metadata": {
        "id": "DND7cmRRxb7-"
      },
      "outputs": [],
      "source": [
        "# 問題 5-2 のコード: 引数あり関数の定義と呼び出し\n",
        "# ここに関数を定義\n",
        "\n",
        "# あなたの名前を引数として関数を呼び出す"
      ]
    },
    {
      "cell_type": "markdown",
      "metadata": {
        "id": "y75B2YnFxb7-"
      },
      "source": [
        "3.  二つの引数（数値 `a` と `b`）を受け取り、その合計を**返り値として返す**関数 `add_numbers(a, b)` を定義してください。そして、この関数を使って `5` と `7` の合計を計算し、その結果を新しい変数に代入して表示するコードを書いてください。"
      ]
    },
    {
      "cell_type": "code",
      "execution_count": null,
      "metadata": {
        "id": "aQMWxj-3xb7-"
      },
      "outputs": [],
      "source": [
        "# 問題 5-3 のコード: 返り値のある関数\n",
        "# ここに関数を定義\n",
        "\n",
        "# 関数を使って合計を計算し、結果を表示"
      ]
    },
    {
      "cell_type": "markdown",
      "metadata": {
        "id": "gH7jA7r9xb7-"
      },
      "source": [
        "---\n",
        "\n",
        "**問題 6: 関数の引数 (デフォルト引数, キーワード引数)**\n",
        "\n",
        "関数の引数のより柔軟な使い方を練習しましょう。\n",
        "\n",
        "1.  デフォルト引数を使った関数: 以下の `greet_user` 関数は、引数 `name` を取りますが、もし引数が指定されなかった場合はデフォルトで `\"ゲスト\"` という名前を使うように定義してください。そして、この関数を引数なしで呼び出すコードと、`name=\"Alice\"` として呼び出すコードを書いて実行してください。"
      ]
    },
    {
      "cell_type": "code",
      "execution_count": null,
      "metadata": {
        "id": "G1EHnFNixb7-"
      },
      "outputs": [],
      "source": [
        "# 問題 6-1 のコード: デフォルト引数\n",
        "# ここに greet_user 関数を定義 (デフォルト引数を使う)\n",
        "\n",
        "# 引数なしで呼び出す\n",
        "\n",
        "# name=\"Alice\" として呼び出す"
      ]
    },
    {
      "cell_type": "markdown",
      "metadata": {
        "id": "I9Lp_M8Exb7_"
      },
      "source": [
        "2.  キーワード引数を使った関数: 以下の `display_profile` 関数は、`username` と `level` の二つの引数を取ります。この関数を呼び出す際に、引数の順番に関わらず、`username=\"coder123\", level=\"Expert\"` のようにキーワード引数を使って呼び出すコードを書いてください。"
      ]
    },
    {
      "cell_type": "code",
      "execution_count": null,
      "metadata": {
        "id": "TLE28-e1xb7_"
      },
      "outputs": [],
      "source": [
        "# 問題 6-2 のコード: キーワード引数\n",
        "def display_profile(username, level):\n",
        "    print(f\"ユーザー名: {username}, レベル: {level}\")\n",
        "\n",
        "# ここで display_profile 関数をキーワード引数を使って呼び出す"
      ]
    },
    {
      "cell_type": "markdown",
      "metadata": {
        "id": "UKb7MgdTxb7_"
      },
      "source": [
        "3.  (発展) 可変長引数 (`*args`) を使った関数: 任意の数の数値引数を受け取り、それらをすべて合計して返す関数 `calculate_sum(*numbers)` を定義してください。そして、この関数を `calculate_sum(1, 2, 3)` や `calculate_sum(10, 20, 30, 40)` のように異なる数の引数で呼び出し、結果を表示してください。"
      ]
    },
    {
      "cell_type": "code",
      "execution_count": null,
      "metadata": {
        "id": "8qSbl5Tcxb7_"
      },
      "outputs": [],
      "source": [
        "# 問題 6-3 のコード: 可変長引数 (*args)\n",
        "# ここに calculate_sum 関数を定義\n",
        "\n",
        "# いくつかの引数で関数を呼び出し、結果を表示"
      ]
    },
    {
      "cell_type": "markdown",
      "metadata": {
        "id": "E--o6cmhxb7_"
      },
      "source": [
        "---\n",
        "\n",
        "**問題 7: ラムダ式 (無名関数)**\n",
        "\n",
        "簡単な関数をその場で定義できるラムダ式を練習しましょう。\n",
        "\n",
        "1.  2つの引数 `x` と `y` を受け取り、それらを掛け合わせた結果を返すラムダ式を作成し、`multiply` という変数に代入してください。そして、この `multiply` を使って `4` と `6` の積を計算し、結果を表示してください。"
      ]
    },
    {
      "cell_type": "code",
      "execution_count": null,
      "metadata": {
        "id": "j1r-X18oxb7_"
      },
      "outputs": [],
      "source": [
        "# 問題 7-1 のコード: 簡単なラムダ式\n",
        "# ここにラムダ式を作成して変数 multiply に代入\n",
        "\n",
        "# multiply を使って計算し、結果を表示"
      ]
    },
    {
      "cell_type": "markdown",
      "metadata": {
        "id": "vNxo7mKnxb7_"
      },
      "source": [
        "2.  以下の `words` リストを、それぞれの単語の**長さが短い順**にソートしてください。ソートのキーとして、ラムダ式を使って各単語の長さを返す無名関数を指定してください。ソートされたリストを表示してください。"
      ]
    },
    {
      "cell_type": "code",
      "execution_count": null,
      "metadata": {
        "id": "YjWw70hWxb7_"
      },
      "outputs": [],
      "source": [
        "# 問題 7-2 のコード: sorted() とラムダ式\n",
        "words = [\"python\", \"java\", \"c\", \"javascript\", \"ruby\"]\n",
        "\n",
        "# ここで words リストを単語の長さでソート\n",
        "\n",
        "# ソートされたリストを表示"
      ]
    },
    {
      "cell_type": "markdown",
      "metadata": {
        "id": "I8tm-zN9xb7_"
      },
      "source": [
        "---\n",
        "\n",
        "**問題 8: ドキュメンテーション文字列 (Docstrings)**\n",
        "\n",
        "関数がどのような処理を行うかを説明するためのドキュメンテーション文字列（Docstring）を書く練習をしましょう。\n",
        "\n",
        "問題 5-3 で作成した `add_numbers(a, b)` 関数に、以下の内容を含むDocstringを追加してください。\n",
        "\n",
        "* 関数が何をするかの簡単な説明（例: 「2つの数値を合計します。」）\n",
        "* 引数 `a` と `b` それぞれの説明\n",
        "* 返り値についての説明\n",
        "\n",
        "Docstringを追加したら、`help()` 関数を使ってその関数のDocstringを表示するコードを書いて実行してください。"
      ]
    },
    {
      "cell_type": "code",
      "execution_count": null,
      "metadata": {
        "id": "38NaCgAfxb8A"
      },
      "outputs": [],
      "source": [
        "# 問題 8 のコード: Docstring の追加と確認\n",
        "\n",
        "# 問題 5-3 の add_numbers 関数に Docstring を追加してここに再定義\n",
        "# def add_numbers(a, b):\n",
        "#     \"\"\"ここに Docstring を書く\"\"\"\n",
        "#     return a + b\n",
        "\n",
        "# help() 関数を使って add_numbers 関数の Docstring を表示"
      ]
    }
  ],
  "metadata": {
    "colab": {
      "provenance": []
    },
    "kernelspec": {
      "display_name": "Python 3",
      "name": "python3"
    }
  },
  "nbformat": 4,
  "nbformat_minor": 0
}
